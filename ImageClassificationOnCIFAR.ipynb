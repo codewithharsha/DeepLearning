{
  "nbformat": 4,
  "nbformat_minor": 0,
  "metadata": {
    "colab": {
      "provenance": [],
      "authorship_tag": "ABX9TyPDSO5br1SAfp+BiUf+pKhz",
      "include_colab_link": true
    },
    "kernelspec": {
      "name": "python3",
      "display_name": "Python 3"
    },
    "language_info": {
      "name": "python"
    }
  },
  "cells": [
    {
      "cell_type": "markdown",
      "metadata": {
        "id": "view-in-github",
        "colab_type": "text"
      },
      "source": [
        "<a href=\"https://colab.research.google.com/github/codewithharsha/DeepLearning/blob/main/ImageClassificationOnCIFAR.ipynb\" target=\"_parent\"><img src=\"https://colab.research.google.com/assets/colab-badge.svg\" alt=\"Open In Colab\"/></a>"
      ]
    },
    {
      "cell_type": "code",
      "execution_count": 2,
      "metadata": {
        "id": "-QdPSbKgv8Qa"
      },
      "outputs": [],
      "source": [
        "import tensorflow as tf\n",
        "import matplotlib.pyplot as plt\n",
        "import numpy as np\n",
        "from tensorflow.keras import models,layers,datasets"
      ]
    },
    {
      "cell_type": "code",
      "source": [
        "(x_train,y_train),(x_test,y_test) = datasets.cifar10.load_data()"
      ],
      "metadata": {
        "id": "mQjiDK-gwKZK"
      },
      "execution_count": 5,
      "outputs": []
    },
    {
      "cell_type": "code",
      "source": [
        "x_train.shape"
      ],
      "metadata": {
        "colab": {
          "base_uri": "https://localhost:8080/"
        },
        "id": "4DgWO3EnxzV0",
        "outputId": "9082049a-8dba-4bfd-d81c-9e38cc571262"
      },
      "execution_count": 8,
      "outputs": [
        {
          "output_type": "execute_result",
          "data": {
            "text/plain": [
              "(50000, 32, 32, 3)"
            ]
          },
          "metadata": {},
          "execution_count": 8
        }
      ]
    },
    {
      "cell_type": "code",
      "source": [
        "y_train.shape"
      ],
      "metadata": {
        "colab": {
          "base_uri": "https://localhost:8080/"
        },
        "id": "SlVDZVBnyGpa",
        "outputId": "b367ddaa-2847-4747-9754-85d9b0f8c503"
      },
      "execution_count": 11,
      "outputs": [
        {
          "output_type": "execute_result",
          "data": {
            "text/plain": [
              "(50000, 1)"
            ]
          },
          "metadata": {},
          "execution_count": 11
        }
      ]
    },
    {
      "cell_type": "code",
      "source": [
        "y_train = y_train.reshape(-1,)\n",
        "y_train[5:]"
      ],
      "metadata": {
        "colab": {
          "base_uri": "https://localhost:8080/"
        },
        "id": "rZLwNx-uy4Kr",
        "outputId": "25d663e5-62c9-4a96-ca60-5b37471d2447"
      },
      "execution_count": 14,
      "outputs": [
        {
          "output_type": "execute_result",
          "data": {
            "text/plain": [
              "array([1, 2, 7, ..., 9, 1, 1], dtype=uint8)"
            ]
          },
          "metadata": {},
          "execution_count": 14
        }
      ]
    },
    {
      "cell_type": "code",
      "source": [
        "classes = [\"airplane\",\"automobile\",\"bird\",\"cat\",\"deer\",\"dog\",\"frog\",\"horse\",\"ship\",\"truck\"]"
      ],
      "metadata": {
        "id": "r0Zpj3P2zijS"
      },
      "execution_count": 15,
      "outputs": []
    },
    {
      "cell_type": "code",
      "source": [
        "#function for plotting the imagegs based on index in the dataset\n",
        "def plot_sample(x,y,index):\n",
        "  plt.figure(figsize=(15,2))\n",
        "  plt.imshow(x[index])\n",
        "  plt.title(classes[y[index]])"
      ],
      "metadata": {
        "id": "PKRYaAV8yPBW"
      },
      "execution_count": 53,
      "outputs": []
    },
    {
      "cell_type": "code",
      "source": [
        "plot_sample(x_train,y_train,6)"
      ],
      "metadata": {
        "colab": {
          "base_uri": "https://localhost:8080/",
          "height": 237
        },
        "id": "PNNoR14OyXDE",
        "outputId": "5868992a-22d2-4d63-c2b1-1b2ea0f1c6a4"
      },
      "execution_count": 18,
      "outputs": [
        {
          "output_type": "display_data",
          "data": {
            "text/plain": [
              "<Figure size 1500x200 with 1 Axes>"
            ],
            "image/png": "[encoded data removed]"
          },
          "metadata": {}
        }
      ]
    },
    {
      "cell_type": "code",
      "source": [
        "#Feature Scaaling\n",
        "x_train = x_train/255\n",
        "x_test = x_test/255"
      ],
      "metadata": {
        "id": "olwtM0nk0M9H"
      },
      "execution_count": 19,
      "outputs": []
    },
    {
      "cell_type": "code",
      "source": [
        "# bulding a ANN\n",
        "ann_model = models.Sequential([\n",
        "    layers.Flatten(input_shape=(32,32,3)),\n",
        "    layers.Dense(3000,activation=\"relu\"),\n",
        "    layers.Dense(1000,activation=\"relu\"),\n",
        "    layers.Dense(10,activation=\"sigmoid\")\n",
        "])\n",
        "ann_model.compile(\n",
        "    optimizer=\"SGD\",\n",
        "    loss=\"sparse_categorical_crossentropy\",\n",
        "    metrics=['accuracy']\n",
        ")\n",
        "ann_model.fit(x_train,y_train,epochs=5)"
      ],
      "metadata": {
        "colab": {
          "base_uri": "https://localhost:8080/"
        },
        "id": "Rj3Q85lf0nUv",
        "outputId": "c5ec6226-54d2-41a5-f6ab-0e9391efe8c4"
      },
      "execution_count": 22,
      "outputs": [
        {
          "output_type": "stream",
          "name": "stdout",
          "text": [
            "Epoch 1/5\n",
            "1563/1563 [==============================] - 125s 80ms/step - loss: 1.8149 - accuracy: 0.3555\n",
            "Epoch 2/5\n",
            "1563/1563 [==============================] - 142s 91ms/step - loss: 1.6239 - accuracy: 0.4254\n",
            "Epoch 3/5\n",
            "1563/1563 [==============================] - 125s 80ms/step - loss: 1.5396 - accuracy: 0.4548\n",
            "Epoch 4/5\n",
            "1563/1563 [==============================] - 125s 80ms/step - loss: 1.4797 - accuracy: 0.4791\n",
            "Epoch 5/5\n",
            "1563/1563 [==============================] - 190s 122ms/step - loss: 1.4293 - accuracy: 0.4983\n"
          ]
        },
        {
          "output_type": "execute_result",
          "data": {
            "text/plain": [
              "<keras.callbacks.History at 0x7d6c4c40a380>"
            ]
          },
          "metadata": {},
          "execution_count": 22
        }
      ]
    },
    {
      "cell_type": "code",
      "source": [
        "y_pred = ann_model.predict(x_test)\n",
        "y_pred = [np.argmax(i) for i in y_pred]"
      ],
      "metadata": {
        "colab": {
          "base_uri": "https://localhost:8080/"
        },
        "id": "wQNXO1_X2F7f",
        "outputId": "1a5eaa02-af31-4789-e1c4-5541e7069609"
      },
      "execution_count": 30,
      "outputs": [
        {
          "output_type": "stream",
          "name": "stdout",
          "text": [
            "313/313 [==============================] - 7s 24ms/step\n"
          ]
        }
      ]
    },
    {
      "cell_type": "code",
      "source": [
        "from sklearn.metrics import classification_report\n",
        "cr = classification_report(y_test,y_pred)\n",
        "print(cr)"
      ],
      "metadata": {
        "colab": {
          "base_uri": "https://localhost:8080/"
        },
        "id": "YfjMVyZs5mE9",
        "outputId": "a193ec34-ab0f-47b2-fcb4-3142a9ba7c7e"
      },
      "execution_count": 32,
      "outputs": [
        {
          "output_type": "stream",
          "name": "stdout",
          "text": [
            "              precision    recall  f1-score   support\n",
            "\n",
            "           0       0.51      0.56      0.53      1000\n",
            "           1       0.75      0.42      0.54      1000\n",
            "           2       0.25      0.64      0.36      1000\n",
            "           3       0.38      0.27      0.31      1000\n",
            "           4       0.56      0.20      0.29      1000\n",
            "           5       0.39      0.41      0.40      1000\n",
            "           6       0.63      0.35      0.45      1000\n",
            "           7       0.55      0.55      0.55      1000\n",
            "           8       0.57      0.66      0.61      1000\n",
            "           9       0.56      0.58      0.57      1000\n",
            "\n",
            "    accuracy                           0.46     10000\n",
            "   macro avg       0.52      0.46      0.46     10000\n",
            "weighted avg       0.52      0.46      0.46     10000\n",
            "\n"
          ]
        }
      ]
    },
    {
      "cell_type": "code",
      "source": [
        "#cnn model\n",
        "cnn_model = models.Sequential([\n",
        "    # extra CNN layers\n",
        "    layers.Conv2D(filters=32,kernel_size=(3,3),activation=\"relu\",input_shape=(32,32,3)),\n",
        "    layers.MaxPooling2D((2,2)),\n",
        "\n",
        "\n",
        "    layers.Conv2D(filters=32,kernel_size=(3,3),activation=\"relu\",input_shape=(32,32,3)),\n",
        "    layers.MaxPooling2D((2,2)),\n",
        "\n",
        "    # Usual Dense layers\n",
        "    layers.Flatten(),\n",
        "    layers.Dense(64,activation=\"relu\"),\n",
        "    layers.Dense(10,activation=\"softmax\")\n",
        "])"
      ],
      "metadata": {
        "id": "cZtWF2mK4VWX"
      },
      "execution_count": 33,
      "outputs": []
    },
    {
      "cell_type": "code",
      "source": [
        "cnn_model.compile(\n",
        "    optimizer=\"adam\",\n",
        "    loss=\"sparse_categorical_crossentropy\",\n",
        "    metrics=[\"accuracy\"]\n",
        ")"
      ],
      "metadata": {
        "id": "n87x-cyT5KDV"
      },
      "execution_count": 34,
      "outputs": []
    },
    {
      "cell_type": "code",
      "source": [
        "cnn_model.fit(x_train,y_train,epochs=5)"
      ],
      "metadata": {
        "colab": {
          "base_uri": "https://localhost:8080/"
        },
        "id": "GwduLS-I6ls-",
        "outputId": "98f6ce40-3d6c-4e60-8944-2b11a985117d"
      },
      "execution_count": 35,
      "outputs": [
        {
          "output_type": "stream",
          "name": "stdout",
          "text": [
            "Epoch 1/5\n",
            "1563/1563 [==============================] - 58s 36ms/step - loss: 1.5390 - accuracy: 0.4433\n",
            "Epoch 2/5\n",
            "1563/1563 [==============================] - 56s 36ms/step - loss: 1.2345 - accuracy: 0.5629\n",
            "Epoch 3/5\n",
            "1563/1563 [==============================] - 76s 49ms/step - loss: 1.0990 - accuracy: 0.6151\n",
            "Epoch 4/5\n",
            "1563/1563 [==============================] - 74s 47ms/step - loss: 1.0188 - accuracy: 0.6430\n",
            "Epoch 5/5\n",
            "1563/1563 [==============================] - 67s 43ms/step - loss: 0.9611 - accuracy: 0.6656\n"
          ]
        },
        {
          "output_type": "execute_result",
          "data": {
            "text/plain": [
              "<keras.callbacks.History at 0x7d6c43d9e9e0>"
            ]
          },
          "metadata": {},
          "execution_count": 35
        }
      ]
    },
    {
      "cell_type": "code",
      "source": [
        "y_pred = cnn_model.predict(x_test)\n",
        "y_pred = [np.argmax(i) for i in y_pred]\n",
        "y_pred_classes = [classes[i] for i in y_pred]"
      ],
      "metadata": {
        "colab": {
          "base_uri": "https://localhost:8080/"
        },
        "id": "5xQF6JTP6zfw",
        "outputId": "0164bcf6-99ef-4902-8c8f-d54cda75db92"
      },
      "execution_count": 42,
      "outputs": [
        {
          "output_type": "stream",
          "name": "stdout",
          "text": [
            "313/313 [==============================] - 3s 11ms/step\n"
          ]
        }
      ]
    },
    {
      "cell_type": "code",
      "source": [
        "plot_sample(x_test,y_pred,67)"
      ],
      "metadata": {
        "colab": {
          "base_uri": "https://localhost:8080/",
          "height": 237
        },
        "id": "biEgyRZO7pQc",
        "outputId": "39e5a25b-7464-4e21-db75-da6668bd6888"
      },
      "execution_count": 54,
      "outputs": [
        {
          "output_type": "display_data",
          "data": {
            "text/plain": [
              "<Figure size 1500x200 with 1 Axes>"
            ],
            "image/png": "[encoded data removed]"
          },
          "metadata": {}
        }
      ]
    },
    {
      "cell_type": "code",
      "source": [],
      "metadata": {
        "id": "iz2yvhfm8kXZ"
      },
      "execution_count": null,
      "outputs": []
    }
  ]
}